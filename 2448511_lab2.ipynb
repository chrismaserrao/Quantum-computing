{
 "cells": [
  {
   "cell_type": "code",
   "execution_count": 6,
   "id": "4750eb4d",
   "metadata": {},
   "outputs": [],
   "source": [
    "import qiskit\n",
    "from qiskit.quantum_info import Operator as op\n",
    "from qiskit.quantum_info import Statevector\n",
    "from numpy import sqrt"
   ]
  },
  {
   "cell_type": "code",
   "execution_count": 7,
   "id": "3a0acad9",
   "metadata": {},
   "outputs": [],
   "source": [
    "#operators\n",
    "#defining quantum gates\n",
    "X = op([[0,1],[1,0]])\n",
    "Y = op([[0,-1.0j],[1.0j,0]])\n",
    "Z = op([[1,0],[0,-1]])\n",
    "H = op([[1/sqrt(2), 1/sqrt(2)], [1/sqrt(2), -1/sqrt(2)]])\n",
    "S = op([[1,0],[0,1.0j]])\n",
    "T = op([[1,0], [0, (1+1.0j)/sqrt(2)]])\n",
    "\n",
    "v=Statevector([1,0]) #state vector initialization"
   ]
  },
  {
   "cell_type": "code",
   "execution_count": 8,
   "id": "7637b0d0",
   "metadata": {},
   "outputs": [
    {
     "data": {
      "text/plain": [
       "[1.+0.j,0.+0.j]"
      ]
     },
     "metadata": {},
     "output_type": "display_data"
    },
    {
     "data": {
      "text/latex": [
       "$$ |0\\rangle$$"
      ],
      "text/plain": [
       "<IPython.core.display.Latex object>"
      ]
     },
     "metadata": {},
     "output_type": "display_data"
    }
   ],
   "source": [
    "#sequence of gates,to calculate the states of qbit after\n",
    "#the gate is applied\n",
    "v.evolve(H)\n",
    "v.evolve(T)\n",
    "v.evolve(H)\n",
    "v.evolve(T)\n",
    "v.evolve(Z)\n",
    "\n",
    "display(v.draw(\"text\"))\n",
    "display(v.draw(\"latex\"))\n"
   ]
  },
  {
   "cell_type": "code",
   "execution_count": 21,
   "id": "f31aa053",
   "metadata": {},
   "outputs": [
    {
     "data": {
      "text/html": [
       "<pre style=\"word-wrap: normal;white-space: pre;background: #fff0;line-height: 1.1;font-family: &quot;Courier New&quot;,Courier,monospace\">   ┌───┐┌───┐┌───┐┌───┐┌───┐\n",
       "q: ┤ H ├┤ T ├┤ H ├┤ T ├┤ Z ├\n",
       "   └───┘└───┘└───┘└───┘└───┘</pre>"
      ],
      "text/plain": [
       "   ┌───┐┌───┐┌───┐┌───┐┌───┐\n",
       "q: ┤ H ├┤ T ├┤ H ├┤ T ├┤ Z ├\n",
       "   └───┘└───┘└───┘└───┘└───┘"
      ]
     },
     "metadata": {},
     "output_type": "display_data"
    }
   ],
   "source": [
    "from qiskit import QuantumCircuit\n",
    "circuit = QuantumCircuit(1)\n",
    "\n",
    "circuit.h(0)\n",
    "circuit.t(0)\n",
    "circuit.h(0)\n",
    "circuit.t(0)\n",
    "circuit.z(0)\n",
    "\n",
    "display(circuit.draw(output='text'))"
   ]
  },
  {
   "cell_type": "code",
   "execution_count": 23,
   "id": "5444ba63",
   "metadata": {},
   "outputs": [
    {
     "data": {
      "text/plain": [
       "[ 0.85355339+0.35355339j,-0.35355339+0.14644661j]"
      ]
     },
     "execution_count": 23,
     "metadata": {},
     "output_type": "execute_result"
    }
   ],
   "source": [
    "ket0 = Statevector([1,0])\n",
    "v = ket0.evolve(circuit)\n",
    "v.draw(\"text\")"
   ]
  },
  {
   "cell_type": "code",
   "execution_count": null,
   "id": "a9522d82",
   "metadata": {},
   "outputs": [
    {
     "data": {
      "image/png": "[encoded data removed]",
      "text/plain": [
       "<Figure size 640x480 with 1 Axes>"
      ]
     },
     "execution_count": 24,
     "metadata": {},
     "output_type": "execute_result"
    }
   ],
   "source": [
    "#finial state vector for the qibits\n",
    "from qiskit.visualization import plot_histogram\n",
    "statistics = v.sample_counts(4000)\n",
    "plot_histogram(statistics)"
   ]
  },
  {
   "cell_type": "markdown",
   "id": "b36e2a41",
   "metadata": {},
   "source": [
    "Question for Lab1\n",
    "Perform the operation X, Y, Z, H, S, T \n",
    "Execute the operations on a state vector.\n",
    "Draw a simple circuit for these operation.\n",
    "Finally,  simulate the result of running this experiment  10000 times.\n",
    "Proof that R is square root of NOT  operation. where R is a Hadamard operation, followed by the S operation, followed by another Hadamard operation."
   ]
  },
  {
   "cell_type": "code",
   "execution_count": null,
   "id": "8cc09221",
   "metadata": {},
   "outputs": [
    {
     "name": "stdout",
     "output_type": "stream",
     "text": [
      "Matrix for R = HSH:\n",
      "[[0.5+0.5j 0.5-0.5j]\n",
      " [0.5-0.5j 0.5+0.5j]]\n",
      "\n",
      "Matrix for R_squared = R @ R:\n",
      "[[0.-0.j 1.+0.j]\n",
      " [1.-0.j 0.+0.j]]\n",
      "\n",
      "Target Matrix (X Gate):\n",
      "Operator([[0.+0.j, 1.+0.j],\n",
      "          [1.+0.j, 0.+0.j]],\n",
      "         input_dims=(2,), output_dims=(2,))\n",
      "\n",
      "--- Conclusion ---\n",
      "Is R the square root of NOT? -> True\n"
     ]
    }
   ],
   "source": [
    "\n",
    "H = op([[1/sqrt(2), 1/sqrt(2)], [1/sqrt(2), -1/sqrt(2)]])\n",
    "S = op([[1,0],[0,1.0j]])  # 1j represents the imaginary number i\n",
    "X = op([[0,1],[1,0]])   # This is our target NOT gate\n",
    "\n",
    "R = H @ S @ H\n",
    "print(\"Matrix for R = HSH:\")\n",
    "print(np.round(R, 5)) \n",
    "\n",
    "R_squared = R @ R\n",
    "print(\"\\nMatrix for R_squared = R @ R:\")\n",
    "print(np.round(R_squared, 5)) \n",
    "\n",
    "is_sqrt = np.allclose(R_squared, X)\n",
    "\n",
    "print(\"\\nTarget Matrix (X Gate):\")\n",
    "print(X)\n",
    "\n",
    "print(\"\\n--- Conclusion ---\")\n",
    "print(f\"Is R the square root of NOT? -> {is_sqrt}\")"
   ]
  }
 ],
 "metadata": {
  "kernelspec": {
   "display_name": "new_envi",
   "language": "python",
   "name": "python3"
  },
  "language_info": {
   "codemirror_mode": {
    "name": "ipython",
    "version": 3
   },
   "file_extension": ".py",
   "mimetype": "text/x-python",
   "name": "python",
   "nbconvert_exporter": "python",
   "pygments_lexer": "ipython3",
   "version": "3.12.2"
  }
 },
 "nbformat": 4,
 "nbformat_minor": 5
}
