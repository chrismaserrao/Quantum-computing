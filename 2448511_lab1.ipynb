{
 "cells": [
  {
   "cell_type": "code",
   "execution_count": null,
   "id": "85044a81",
   "metadata": {},
   "outputs": [
    {
     "data": {
      "text/plain": [
       "array([0.5, 0.5])"
      ]
     },
     "metadata": {},
     "output_type": "display_data"
    },
    {
     "data": {
      "text/plain": [
       "array([[0.5, 1. ],\n",
       "       [0.5, 0. ]])"
      ]
     },
     "metadata": {},
     "output_type": "display_data"
    },
    {
     "data": {
      "text/plain": [
       "array([1, 0])"
      ]
     },
     "metadata": {},
     "output_type": "display_data"
    },
    {
     "data": {
      "text/plain": [
       "array([[1, 1],\n",
       "       [0, 0]])"
      ]
     },
     "metadata": {},
     "output_type": "display_data"
    },
    {
     "data": {
      "text/plain": [
       "array([[0, 0],\n",
       "       [1, 1]])"
      ]
     },
     "metadata": {},
     "output_type": "display_data"
    }
   ],
   "source": [
    "##Question one, quantum computing\n",
    "# NumPy Vector and Matrix Operations\n",
    "from numpy import array\n",
    "\n",
    "# Define two vectors (qubit states |0> and |1>)\n",
    "ket0 = array([1, 0])\n",
    "ket1 = array([0, 1])\n",
    "\n",
    "# Display the average of ket0 and ket1\n",
    "display(ket0 / 2 + ket1 / 2)\n",
    "\n",
    "\n",
    "# Define two matrices (representing quantum operations)\n",
    "M1 = array([[1, 1], [0, 0]])\n",
    "M2 = array([[0, 1], [1, 0]])\n",
    "\n",
    "# Display the average of M1 and M2\n",
    "display(M1 / 2 + M2 / 2)\n",
    "# Output: array([[1., 1. ], [0.5, 0. ]])\n",
    "\n",
    "from numpy import matmul\n",
    "# Perform matrix and vector multiplications\n",
    "display(matmul(M1, ket1))\n",
    "display(matmul(M1, M2))\n",
    "# Output: array([[2, 1], [0, 0]])\n",
    "display(matmul(M2, M1))\n",
    "# Output: array([[1, 1], [1, 1]])"
   ]
  },
  {
   "cell_type": "code",
   "execution_count": null,
   "id": "6169f071",
   "metadata": {},
   "outputs": [
    {
     "name": "stdout",
     "output_type": "stream",
     "text": [
      "State vectors u, v, and w have been defined.\n"
     ]
    },
    {
     "data": {
      "text/latex": [
       "$$\\frac{\\sqrt{2}}{2} |0\\rangle+\\frac{\\sqrt{2}}{2} |1\\rangle$$"
      ],
      "text/plain": [
       "<IPython.core.display.Latex object>"
      ]
     },
     "metadata": {},
     "output_type": "display_data"
    },
    {
     "data": {
      "text/plain": [
       "[ 0.33333333+0.66666667j,-0.66666667+0.j        ]"
      ]
     },
     "metadata": {},
     "output_type": "display_data"
    },
    {
     "data": {
      "text/plain": [
       "True"
      ]
     },
     "metadata": {},
     "output_type": "display_data"
    },
    {
     "data": {
      "text/plain": [
       "False"
      ]
     },
     "metadata": {},
     "output_type": "display_data"
    }
   ],
   "source": [
    "# Qiskit Statevector Definition and Validation\n",
    "\n",
    "from qiskit.quantum_info import Statevector\n",
    "from numpy import sqrt\n",
    "\n",
    "# Define state vectors u, v, and w\n",
    "u = Statevector([1/sqrt(2), 1/sqrt(2)]) # A valid quantum state (e.g., |+>)\n",
    "v = Statevector([(1 + 2.0j) / 3, -2/3]) # A valid quantum state\n",
    "w = Statevector([1/3, 2/3]) # An invalid quantum state (norm != 1)\n",
    "\n",
    "print(\"State vectors u, v, and w have been defined.\")\n",
    "\n",
    "# Display state vectors using different drawing methods\n",
    "display(u.draw(\"latex\"))\n",
    "\n",
    "display(v.draw(\"text\"))\n",
    "\n",
    "\n",
    "# Check if the state vectors are valid quantum states\n",
    "display(u.is_valid())\n",
    "# Output: True\n",
    "display(w.is_valid())\n",
    "# Output: False"
   ]
  },
  {
   "cell_type": "code",
   "execution_count": null,
   "id": "77faa3d6",
   "metadata": {},
   "outputs": [
    {
     "name": "stdout",
     "output_type": "stream",
     "text": [
      "Measurement result: 1\n",
      "Statevector([ 0.+0.j, -1.+0.j],\n",
      "            dims=(2,))\n"
     ]
    },
    {
     "data": {
      "text/plain": [
       "{np.str_('0'): np.int64(547), np.str_('1'): np.int64(453)}"
      ]
     },
     "metadata": {},
     "output_type": "display_data"
    },
    {
     "data": {
      "image/png": "[encoded data removed]",
      "text/plain": [
       "<Figure size 640x480 with 1 Axes>"
      ]
     },
     "execution_count": 3,
     "metadata": {},
     "output_type": "execute_result"
    }
   ],
   "source": [
    "# Qiskit Measurement Simulation and Visualization\n",
    "\n",
    "\n",
    "v = Statevector([(1 + 2.0j) / 3, -2/3])\n",
    "v.draw(\"latex\")\n",
    "\n",
    "\n",
    "# Simulate a single measurement of state v\n",
    "result, new_state = v.measure()\n",
    "print(f\"Measurement result: {result}\")\n",
    "display(new_state)\n",
    "\n",
    "# Simulate 1000 measurements and get the counts\n",
    "from qiskit.visualization import plot_histogram\n",
    "\n",
    "statistics = v.sample_counts(1000)\n",
    "display(statistics)\n",
    "\n",
    "plot_histogram(statistics)\n"
   ]
  },
  {
   "cell_type": "markdown",
   "id": "6692ae5c",
   "metadata": {},
   "source": []
  }
 ],
 "metadata": {
  "kernelspec": {
   "display_name": "new_envi",
   "language": "python",
   "name": "python3"
  },
  "language_info": {
   "codemirror_mode": {
    "name": "ipython",
    "version": 3
   },
   "file_extension": ".py",
   "mimetype": "text/x-python",
   "name": "python",
   "nbconvert_exporter": "python",
   "pygments_lexer": "ipython3",
   "version": "3.12.2"
  }
 },
 "nbformat": 4,
 "nbformat_minor": 5
}
